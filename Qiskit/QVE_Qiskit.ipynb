{
 "cells": [
  {
   "cell_type": "markdown",
   "id": "f46bda5d",
   "metadata": {},
   "source": [
    "Импортируем библиотеки из Qiskit"
   ]
  },
  {
   "cell_type": "code",
   "execution_count": 1,
   "id": "1cd9b8f9",
   "metadata": {},
   "outputs": [],
   "source": [
    "import numpy as np\n",
    "import qiskit_nature\n",
    "import pyscf\n",
    "\n",
    "# Import Qiskit\n",
    "from qiskit import QuantumCircuit\n",
    "from qiskit import Aer, BasicAer\n",
    "from qiskit.tools.visualization import plot_histogram, plot_state_city\n",
    "import qiskit.quantum_info as qi\n",
    "from qiskit.algorithms.optimizers import COBYLA, SPSA, SLSQP\n",
    "from qiskit_nature.drivers import Molecule\n",
    "from qiskit_nature.drivers.second_quantization import (\n",
    "    ElectronicStructureMoleculeDriver, ElectronicStructureDriverType)"
   ]
  },
  {
   "cell_type": "code",
   "execution_count": 2,
   "id": "44ccab1b",
   "metadata": {},
   "outputs": [],
   "source": [
    "def get_qubit_op(dist):\n",
    "    # Define Molecule\n",
    "    molecule = Molecule(\n",
    "        # Coordinates in Angstrom\n",
    "        geometry=[\n",
    "            [\"Li\", [0.0, 0.0, 0.0]],\n",
    "            [\"H\", [dist, 0.0, 0.0]]\n",
    "        ],\n",
    "        multiplicity=1,  # = 2*spin + 1\n",
    "        charge=0,\n",
    "    )\n",
    "\n",
    "    driver = ElectronicStructureMoleculeDriver(\n",
    "        molecule=molecule,\n",
    "        basis=\"sto3g\",\n",
    "        driver_type=ElectronicStructureDriverType.PYSCF)\n",
    "\n",
    "    # Get properties\n",
    "    properties = driver.run()\n",
    "    num_particles = (properties\n",
    "                        .get_property(\"ParticleNumber\")\n",
    "                        .num_particles)\n",
    "    num_spin_orbitals = int(properties\n",
    "                            .get_property(\"ParticleNumber\")\n",
    "                            .num_spin_orbitals)\n",
    "\n",
    "    # Define Problem, Use freeze core approximation, remove orbitals.\n",
    "    problem = ElectronicStructureProblem(\n",
    "        driver,\n",
    "        [FreezeCoreTransformer(freeze_core=True,\n",
    "                               remove_orbitals=[-3,-2])])\n",
    "\n",
    "    second_q_ops = problem.second_q_ops()  # Get 2nd Quant OP\n",
    "    num_spin_orbitals = problem.num_spin_orbitals\n",
    "    num_particles = problem.num_particles\n",
    "\n",
    "    mapper = ParityMapper()  # Set Mapper\n",
    "    hamiltonian = second_q_ops[0]  # Set Hamiltonian\n",
    "    # Do two qubit reduction\n",
    "    converter = QubitConverter(mapper,two_qubit_reduction=True)\n",
    "    reducer = TwoQubitReduction(num_particles)\n",
    "    qubit_op = converter.convert(hamiltonian)\n",
    "    qubit_op = reducer.convert(qubit_op)\n",
    "\n",
    "    return qubit_op, num_particles, num_spin_orbitals, problem, converter"
   ]
  },
  {
   "cell_type": "code",
   "execution_count": 4,
   "id": "f05c0c67",
   "metadata": {},
   "outputs": [
    {
     "ename": "NameError",
     "evalue": "name 'ElectronicStructureProblem' is not defined",
     "output_type": "error",
     "traceback": [
      "\u001b[0;31m---------------------------------------------------------------------------\u001b[0m",
      "\u001b[0;31mNameError\u001b[0m                                 Traceback (most recent call last)",
      "Cell \u001b[0;32mIn[4], line 17\u001b[0m\n\u001b[1;32m     15\u001b[0m \u001b[38;5;66;03m# pylint: disable=undefined-loop-variable\u001b[39;00m\n\u001b[1;32m     16\u001b[0m \u001b[38;5;28;01mfor\u001b[39;00m dist \u001b[38;5;129;01min\u001b[39;00m distances:\n\u001b[0;32m---> 17\u001b[0m     (qubit_op, num_particles, num_spin_orbitals, problem, converter) \u001b[38;5;241m=\u001b[39m \u001b[43mget_qubit_op\u001b[49m\u001b[43m(\u001b[49m\u001b[43mdist\u001b[49m\u001b[43m)\u001b[49m\n\u001b[1;32m     18\u001b[0m     result \u001b[38;5;241m=\u001b[39m exact_solver(problem,converter)\n\u001b[1;32m     19\u001b[0m     exact_energies\u001b[38;5;241m.\u001b[39mappend(result\u001b[38;5;241m.\u001b[39mtotal_energies[\u001b[38;5;241m0\u001b[39m]\u001b[38;5;241m.\u001b[39mreal)\n",
      "Cell \u001b[0;32mIn[2], line 28\u001b[0m, in \u001b[0;36mget_qubit_op\u001b[0;34m(dist)\u001b[0m\n\u001b[1;32m     23\u001b[0m num_spin_orbitals \u001b[38;5;241m=\u001b[39m \u001b[38;5;28mint\u001b[39m(properties\n\u001b[1;32m     24\u001b[0m                         \u001b[38;5;241m.\u001b[39mget_property(\u001b[38;5;124m\"\u001b[39m\u001b[38;5;124mParticleNumber\u001b[39m\u001b[38;5;124m\"\u001b[39m)\n\u001b[1;32m     25\u001b[0m                         \u001b[38;5;241m.\u001b[39mnum_spin_orbitals)\n\u001b[1;32m     27\u001b[0m \u001b[38;5;66;03m# Define Problem, Use freeze core approximation, remove orbitals.\u001b[39;00m\n\u001b[0;32m---> 28\u001b[0m problem \u001b[38;5;241m=\u001b[39m \u001b[43mElectronicStructureProblem\u001b[49m(\n\u001b[1;32m     29\u001b[0m     driver,\n\u001b[1;32m     30\u001b[0m     [FreezeCoreTransformer(freeze_core\u001b[38;5;241m=\u001b[39m\u001b[38;5;28;01mTrue\u001b[39;00m,\n\u001b[1;32m     31\u001b[0m                            remove_orbitals\u001b[38;5;241m=\u001b[39m[\u001b[38;5;241m-\u001b[39m\u001b[38;5;241m3\u001b[39m,\u001b[38;5;241m-\u001b[39m\u001b[38;5;241m2\u001b[39m])])\n\u001b[1;32m     33\u001b[0m second_q_ops \u001b[38;5;241m=\u001b[39m problem\u001b[38;5;241m.\u001b[39msecond_q_ops()  \u001b[38;5;66;03m# Get 2nd Quant OP\u001b[39;00m\n\u001b[1;32m     34\u001b[0m num_spin_orbitals \u001b[38;5;241m=\u001b[39m problem\u001b[38;5;241m.\u001b[39mnum_spin_orbitals\n",
      "\u001b[0;31mNameError\u001b[0m: name 'ElectronicStructureProblem' is not defined"
     ]
    }
   ],
   "source": [
    "def exact_solver(problem, converter):\n",
    "    solver = NumPyMinimumEigensolverFactory()\n",
    "    calc = GroundStateEigensolver(converter, solver)\n",
    "    result = calc.solve(problem)\n",
    "    return result\n",
    "\n",
    "backend = BasicAer.get_backend(\"statevector_simulator\")\n",
    "simulator = Aer.get_backend('aer_simulator')\n",
    "\n",
    "distances = np.arange(0.5, 4.0, 0.2)\n",
    "exact_energies = []\n",
    "vqe_energies = []\n",
    "optimizer = SLSQP(maxiter=5)\n",
    "\n",
    "# pylint: disable=undefined-loop-variable\n",
    "for dist in distances:\n",
    "    (qubit_op, num_particles, num_spin_orbitals, problem, converter) = get_qubit_op(dist)\n",
    "    result = exact_solver(problem,converter)\n",
    "    exact_energies.append(result.total_energies[0].real)\n",
    "    init_state = HartreeFock(num_spin_orbitals, num_particles, converter)\n",
    "    var_form = UCCSD(converter,\n",
    "                     num_particles,\n",
    "                     num_spin_orbitals,\n",
    "                     initial_state=init_state)\n",
    "    vqe = VQE(var_form, optimizer, quantum_instance=backend)\n",
    "    vqe_calc = vqe.compute_minimum_eigenvalue(qubit_op)\n",
    "    vqe_result = problem.interpret(vqe_calc).total_energies[0].real\n",
    "    vqe_energies.append(vqe_result)\n",
    "    print(f\"Interatomic Distance: {np.round(dist, 2)}\",\n",
    "          f\"VQE Result: {vqe_result:.5f}\",\n",
    "          f\"Exact Energy: {exact_energies[-1]:.5f}\")\n",
    "\n",
    "print(\"All energies have been calculated\")"
   ]
  }
 ],
 "metadata": {
  "kernelspec": {
   "display_name": "Python 3 (ipykernel)",
   "language": "python",
   "name": "python3"
  },
  "language_info": {
   "codemirror_mode": {
    "name": "ipython",
    "version": 3
   },
   "file_extension": ".py",
   "mimetype": "text/x-python",
   "name": "python",
   "nbconvert_exporter": "python",
   "pygments_lexer": "ipython3",
   "version": "3.10.9"
  }
 },
 "nbformat": 4,
 "nbformat_minor": 5
}
