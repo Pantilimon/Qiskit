{
 "cells": [
  {
   "cell_type": "markdown",
   "id": "4b277e06",
   "metadata": {},
   "source": [
    "Сначала мы попробуем использовать простую вариационную форму с одним кубитом для решения проблемы, аналогичной оценке энергии основного состояния. В частности, нам дан случайный вектор вероятности $\\mathbf{x}$ и и мы хотим определить возможную параметризацию для нашей вариационной формы с одним кубитом, чтобы она выводила распределение вероятностей, близкое к $\\mathbf{x}$ (где близость определяется в терминах манхэттенского расстояния между двумя векторами вероятности)."
   ]
  },
  {
   "cell_type": "code",
   "execution_count": 2,
   "id": "64f15285",
   "metadata": {},
   "outputs": [],
   "source": [
    "import qiskit\n",
    "import scipy\n",
    "import qiskit_nature\n",
    "from qiskit.algorithms.optimizers import COBYLA\n",
    "from cmath import phase\n",
    "from qiskit import QuantumCircuit, QuantumRegister, ClassicalRegister, IBMQ, Aer, transpile, assemble\n",
    "from qiskit.visualization import plot_histogram, plot_bloch_multivector, array_to_latex\n",
    "from qiskit.extensions import Initialize\n",
    "from qiskit.quantum_info import random_statevector, Statevector\n",
    "import qiskit.algorithms.optimizers"
   ]
  },
  {
   "cell_type": "code",
   "execution_count": 3,
   "id": "d6feebc7",
   "metadata": {
    "scrolled": true
   },
   "outputs": [],
   "source": [
    "import numpy as np\n",
    "target_distr = np.random.rand(2) # Создали случайный вектор\n",
    "# Теперь преобразуем случайный вектор в вектор вероятности (нормируем на 1)\n",
    "target_distr /= sum(target_distr) #Получили \\psi"
   ]
  },
  {
   "cell_type": "code",
   "execution_count": 4,
   "id": "4693fabb",
   "metadata": {},
   "outputs": [],
   "source": [
    "def get_var_form(params): #Фукнция создаёт квантовую схему q c вариационной формой U3. Аргументы функции = аргументы формы\n",
    "    qr = QuantumRegister(1, name=\"q\")\n",
    "    cr = ClassicalRegister(1, name='c')\n",
    "    qc = QuantumCircuit(qr, cr)\n",
    "    qc.u(params[0], params[1], params[2], qr[0])\n",
    "    qc.measure(qr, cr[0])\n",
    "    return qc"
   ]
  },
  {
   "cell_type": "code",
   "execution_count": null,
   "id": "c8868be2",
   "metadata": {},
   "outputs": [],
   "source": []
  },
  {
   "cell_type": "markdown",
   "id": "cfbd831f",
   "metadata": {},
   "source": [
    "Теперь мы определяем целевую функцию, которая принимает в качестве входных данных список параметров вариационной формы и возвращает \"манхетеннскую разность\" между ... и начальным вектором вероятности"
   ]
  },
  {
   "cell_type": "code",
   "execution_count": 5,
   "id": "5fc5aaab",
   "metadata": {},
   "outputs": [],
   "source": [
    "backend = Aer.get_backend('qasm_simulator') #подклюичили аналоговый симмулятор\n",
    "NUM_SHOTS = 100000\n",
    "\n",
    "def get_probability_distribution(counts): # Получим распределение вероятности (counts- словарь)\n",
    "    output_distr = [v / NUM_SHOTS for v in counts.values()] #метод .values() вытащит только значения словаря, которые мы поделим на 10 000\n",
    "    if len(output_distr) == 1:\n",
    "        output_distr.append(1 - output_distr[0]) # чтобы не было вектора длины 1, мы зададим вектор длины 2 (1 0)\n",
    "    return output_distr\n",
    "\n",
    "def objective_function(params):\n",
    "    # Получаем квантовую схему по заданным параметрам формы U3\n",
    "    qc = get_var_form(params)\n",
    "    # Выполните квантовую схему для получения распределения вероятностей, связанного с текущими параметрами\n",
    "    t_qc = transpile(qc, backend) # транспилируем схему: делаем эквивалентные замены гейтов, чтобы уменьшить вер-ть ошибки\n",
    "    qobj = assemble(t_qc, shots=NUM_SHOTS) # Эта функция сериализует SHOTS раз схему, для создания “экспериментов” Qobj. \n",
    "    result = backend.run(qobj).result().get_counts(t_qc) #Запускаем на сиуляторе backend qobj и получаем результаты\n",
    "    #Получите значения для каждого измеренного состояния и преобразуйте эти значения в вектор вероятности\n",
    "    output_distr = get_probability_distribution(dict(result)) # Получим распределение вероятности после псоле прохождения схемы \\psi_{\\theta}\n",
    "    \n",
    "    cost = sum([np.abs(output_distr[i] - target_distr[i]) for i in range(2)]) # Посчитаем манхетеннское расстояние между векторами вероятности\n",
    "    return cost"
   ]
  },
  {
   "cell_type": "code",
   "execution_count": 7,
   "id": "040b47ac",
   "metadata": {},
   "outputs": [
    {
     "name": "stdout",
     "output_type": "stream",
     "text": [
      "Начальное распределение: [0.89423843 0.10576157]\n",
      "Оптимизированное распределение: [0.10629, 0.89371]\n",
      "Манхеттенское расстояние между векторами распределения до оптимизации: 0.21012313258268606\n",
      "Манхеттенское расстояние между векторами распределения после оптимизации: 0.0016568674173138564\n",
      "Исходные параметры: [0.04826692 0.92928105 0.23029384]\n",
      "Оптимизированные параметры: [-0.66191622  2.10659885  0.39546556]\n"
     ]
    }
   ],
   "source": [
    "\n",
    "# Создайте начальные параметры (аргументы формы)\n",
    "params = np.random.rand(3)\n",
    "ret = scipy.optimize.minimize(method='COBYLA',options={'maxiter': 500, 'catol': 0.0001}, fun=objective_function, x0=params)\n",
    "\n",
    "# Получите выходное распределение, используя оптимизированные параметры\n",
    "rret = list(ret.values())\n",
    "qc = get_var_form(rret[0])\n",
    "t_qc = transpile(qc, backend)\n",
    "qobj = assemble(t_qc, shots=NUM_SHOTS)\n",
    "counts = backend.run(qobj).result().get_counts(t_qc)\n",
    "output_distr = get_probability_distribution(counts)\n",
    "\n",
    "print(\"Начальное распределение:\", target_distr)\n",
    "print(\"Оптимизированное распределение:\", output_distr)\n",
    "print(\"Манхеттенское расстояние между векторами распределения до оптимизации:\", objective_function(params))\n",
    "print(\"Манхеттенское расстояние между векторами распределения после оптимизации:\", rret[-2])\n",
    "print(\"Исходные параметры:\", params)\n",
    "print(\"Оптимизированные параметры:\", rret[0])"
   ]
  }
 ],
 "metadata": {
  "kernelspec": {
   "display_name": "Python 3 (ipykernel)",
   "language": "python",
   "name": "python3"
  },
  "language_info": {
   "codemirror_mode": {
    "name": "ipython",
    "version": 3
   },
   "file_extension": ".py",
   "mimetype": "text/x-python",
   "name": "python",
   "nbconvert_exporter": "python",
   "pygments_lexer": "ipython3",
   "version": "3.10.9"
  }
 },
 "nbformat": 4,
 "nbformat_minor": 5
}
