{
 "cells": [
  {
   "cell_type": "code",
   "execution_count": 1,
   "id": "6222c1c7",
   "metadata": {},
   "outputs": [
    {
     "data": {
      "text/plain": [
       "<pyscf.gto.mole.Mole at 0x7f88b4e0a920>"
      ]
     },
     "execution_count": 1,
     "metadata": {},
     "output_type": "execute_result"
    }
   ],
   "source": [
    "from pyscf import gto, scf\n",
    "\n",
    "h_atom = gto.Mole()\n",
    "h_atom.build(\n",
    "    atom=\"H 0 0 0\",\n",
    "    basis=\"STO-3G\",\n",
    "    spin=1,\n",
    ")"
   ]
  },
  {
   "cell_type": "code",
   "execution_count": 2,
   "id": "2337cb72",
   "metadata": {},
   "outputs": [
    {
     "name": "stdout",
     "output_type": "stream",
     "text": [
      "converged SCF energy = -0.466581849557275\n",
      "Hydrogen ground state energy: -12.696338923670483 eV\n"
     ]
    }
   ],
   "source": [
    "from scipy.constants import physical_constants\n",
    "\n",
    "mf = scf.ROHF(h_atom)\n",
    "e_in_ht = mf.kernel()\n",
    "\n",
    "h2ev = physical_constants[\"hartree-electron volt relationship\"]\n",
    "\n",
    "def e_in_ev(energy_in_ht: float) -> float:\n",
    "    return energy_in_ht * h2ev[0]\n",
    "\n",
    "\n",
    "print(f\"Hydrogen ground state energy: {e_in_ev(e_in_ht)} eV\")"
   ]
  }
 ],
 "metadata": {
  "kernelspec": {
   "display_name": "Python 3 (ipykernel)",
   "language": "python",
   "name": "python3"
  },
  "language_info": {
   "codemirror_mode": {
    "name": "ipython",
    "version": 3
   },
   "file_extension": ".py",
   "mimetype": "text/x-python",
   "name": "python",
   "nbconvert_exporter": "python",
   "pygments_lexer": "ipython3",
   "version": "3.10.9"
  }
 },
 "nbformat": 4,
 "nbformat_minor": 5
}
